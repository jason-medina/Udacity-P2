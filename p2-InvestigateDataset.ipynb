{
 "cells": [
  {
   "cell_type": "markdown",
   "metadata": {},
   "source": [
    "# P2: Investigate a Dataset\n",
    "\n",
    "### For this project, we investigate a dataset with baseball statistics.   \n",
    "\n",
    "### [Here](http://www.seanlahman.com/baseball-archive/statistics/) is the complete baseball dataset.  This analysis investigates the Batting.csv file.  Now that we have aquired our data, we read in data for cleansing and exploration."
   ]
  },
  {
   "cell_type": "markdown",
   "metadata": {
    "collapsed": true
   },
   "source": [
    "><font color='grey'> The data analysis process consists of five steps. A question is step one.  The second is data wrangling, which consists of data aquisition and data cleansing.  The third step is data exploration, where we take time to get familiar and investigate the data.  The fourth step is to draw conclusions or identify any patterns or learning. The final step is to communicate and or take action where possible.     </font>\n"
   ]
  },
  {
   "cell_type": "code",
   "execution_count": 560,
   "metadata": {
    "collapsed": false
   },
   "outputs": [
    {
     "name": "stdout",
     "output_type": "stream",
     "text": [
      "Populating the interactive namespace from numpy and matplotlib\n",
      "<class 'pandas.core.frame.DataFrame'>\n",
      "RangeIndex: 101332 entries, 0 to 101331\n",
      "Data columns (total 22 columns):\n",
      "playerID    101332 non-null object\n",
      "yearID      101332 non-null int64\n",
      "stint       101332 non-null int64\n",
      "teamID      101332 non-null object\n",
      "lgID        100595 non-null object\n",
      "G           101332 non-null int64\n",
      "AB          96183 non-null float64\n",
      "R           96183 non-null float64\n",
      "H           96183 non-null float64\n",
      "2B          96183 non-null float64\n",
      "3B          96183 non-null float64\n",
      "HR          96183 non-null float64\n",
      "RBI         95759 non-null float64\n",
      "SB          94883 non-null float64\n",
      "CS          72729 non-null float64\n",
      "BB          96183 non-null float64\n",
      "SO          88345 non-null float64\n",
      "IBB         59620 non-null float64\n",
      "HBP         93373 non-null float64\n",
      "SH          89845 non-null float64\n",
      "SF          60151 non-null float64\n",
      "GIDP        70075 non-null float64\n",
      "dtypes: float64(16), int64(3), object(3)\n",
      "memory usage: 17.0+ MB\n",
      "None\n",
      "    playerID  yearID  stint teamID lgID   G     AB     R     H    2B  ...   \\\n",
      "0  abercda01    1871      1    TRO  NaN   1    4.0   0.0   0.0   0.0  ...    \n",
      "1   addybo01    1871      1    RC1  NaN  25  118.0  30.0  32.0   6.0  ...    \n",
      "2  allisar01    1871      1    CL1  NaN  29  137.0  28.0  40.0   4.0  ...    \n",
      "3  allisdo01    1871      1    WS3  NaN  27  133.0  28.0  44.0  10.0  ...    \n",
      "4  ansonca01    1871      1    RC1  NaN  25  120.0  29.0  39.0  11.0  ...    \n",
      "\n",
      "    RBI   SB   CS   BB   SO  IBB  HBP  SH  SF  GIDP  \n",
      "0   0.0  0.0  0.0  0.0  0.0  NaN  NaN NaN NaN   NaN  \n",
      "1  13.0  8.0  1.0  4.0  0.0  NaN  NaN NaN NaN   NaN  \n",
      "2  19.0  3.0  1.0  2.0  5.0  NaN  NaN NaN NaN   NaN  \n",
      "3  27.0  1.0  1.0  0.0  2.0  NaN  NaN NaN NaN   NaN  \n",
      "4  16.0  6.0  2.0  2.0  1.0  NaN  NaN NaN NaN   NaN  \n",
      "\n",
      "[5 rows x 22 columns]\n",
      "         playerID  yearID  stint teamID lgID    G     AB     R     H    2B  \\\n",
      "101327   zitoba01    2015      1    OAK   AL    3    0.0   0.0   0.0   0.0   \n",
      "101328  zobribe01    2015      1    OAK   AL   67  235.0  39.0  63.0  20.0   \n",
      "101329  zobribe01    2015      2    KCA   AL   59  232.0  37.0  66.0  16.0   \n",
      "101330  zuninmi01    2015      1    SEA   AL  112  350.0  28.0  61.0  11.0   \n",
      "101331   zychto01    2015      1    SEA   AL   13    0.0   0.0   0.0   0.0   \n",
      "\n",
      "        ...    RBI   SB   CS    BB     SO  IBB  HBP   SH   SF  GIDP  \n",
      "101327  ...    0.0  0.0  0.0   0.0    0.0  0.0  0.0  0.0  0.0   0.0  \n",
      "101328  ...   33.0  1.0  1.0  33.0   26.0  2.0  0.0  0.0  3.0   5.0  \n",
      "101329  ...   23.0  2.0  3.0  29.0   30.0  1.0  1.0  0.0  2.0   3.0  \n",
      "101330  ...   28.0  0.0  1.0  21.0  132.0  0.0  5.0  8.0  2.0   6.0  \n",
      "101331  ...    0.0  0.0  0.0   0.0    0.0  0.0  0.0  0.0  0.0   0.0  \n",
      "\n",
      "[5 rows x 22 columns]\n"
     ]
    }
   ],
   "source": [
    "%pylab inline\n",
    "\n",
    "import pandas as pd\n",
    "import numpy as np\n",
    "import matplotlib.pyplot as plt\n",
    "from scipy.stats.stats import pearsonr\n",
    "\n",
    "filename = '/udacity/p2/Batting.csv'\n",
    "batting_df = pd.read_csv(filename)\n",
    "\n",
    "#Summary of data\n",
    "print batting_df.info()\n",
    "#http://pandas.pydata.org/pandas-docs/stable/generated/pandas.DataFrame.info.html\n",
    "\n",
    "'''\n",
    "# Legend with long descriptions for the data columns\n",
    "\n",
    "* G              -  Games\n",
    "* AB             -  At Bats\n",
    "* R              -  Runs\n",
    "* H              -  Hits\n",
    "* 2B             -  Doubles\n",
    "* 3B             -  Triples\n",
    "* HR             -  Homeruns\n",
    "* RBI            -  Runs Batted In\n",
    "* SB             -  Stolen Bases\n",
    "* CS             -  Caught Stealing\n",
    "* BB             -  Base on Balls\n",
    "* SO             -  Strikeouts\n",
    "* IBB            -  Intentional walks\n",
    "* HBP            -  Hit by pitch\n",
    "* SH             -  Sacrifice hits\n",
    "* SF             -  Sacrifice flies\n",
    "* GIDP           -  Grounded into double plays\n",
    "'''\n",
    "\n",
    "#Show first five rows\n",
    "print batting_df.head(5)\n",
    "\n",
    "#Show last five rows\n",
    "print batting_df.tail(5)"
   ]
  },
  {
   "cell_type": "markdown",
   "metadata": {},
   "source": [
    "### The range index is 101,332 with 22 data columns.  The data types are mostly float64, with a few objects and int.\n",
    "### The primary key is playerID. A playerID row has four dimensions:\n",
    "\n",
    "* yearID - season on record, we can use this to show change over time\n",
    "* stint - ordered appearances within season, a player may have multiple stints within the same year for the same team\n",
    "* teamID - a player can play on multiple teams in one year\n",
    "* lgID - teams belong to a league\n",
    "\n",
    "### The other 17 fields contain numeric values.  Let's spend time exploring that.  The describe function shows various summary statistics.  \n",
    "### Let's evalutate the summary stats then come up with some questions to ask.  "
   ]
  },
  {
   "cell_type": "code",
   "execution_count": 561,
   "metadata": {
    "collapsed": false
   },
   "outputs": [
    {
     "data": {
      "text/html": [
       "<div>\n",
       "<table border=\"1\" class=\"dataframe\">\n",
       "  <thead>\n",
       "    <tr style=\"text-align: right;\">\n",
       "      <th></th>\n",
       "      <th>count</th>\n",
       "      <th>mean</th>\n",
       "      <th>std</th>\n",
       "      <th>min</th>\n",
       "      <th>25%</th>\n",
       "      <th>50%</th>\n",
       "      <th>75%</th>\n",
       "      <th>max</th>\n",
       "    </tr>\n",
       "  </thead>\n",
       "  <tbody>\n",
       "    <tr>\n",
       "      <th>yearID</th>\n",
       "      <td>101332.0</td>\n",
       "      <td>1963.506533</td>\n",
       "      <td>38.628278</td>\n",
       "      <td>1871.0</td>\n",
       "      <td>1933.0</td>\n",
       "      <td>1972.0</td>\n",
       "      <td>1997.00</td>\n",
       "      <td>2015.0</td>\n",
       "    </tr>\n",
       "    <tr>\n",
       "      <th>stint</th>\n",
       "      <td>101332.0</td>\n",
       "      <td>1.077567</td>\n",
       "      <td>0.283676</td>\n",
       "      <td>1.0</td>\n",
       "      <td>1.0</td>\n",
       "      <td>1.0</td>\n",
       "      <td>1.00</td>\n",
       "      <td>5.0</td>\n",
       "    </tr>\n",
       "    <tr>\n",
       "      <th>G</th>\n",
       "      <td>101332.0</td>\n",
       "      <td>51.400111</td>\n",
       "      <td>47.145273</td>\n",
       "      <td>0.0</td>\n",
       "      <td>13.0</td>\n",
       "      <td>34.0</td>\n",
       "      <td>80.25</td>\n",
       "      <td>165.0</td>\n",
       "    </tr>\n",
       "    <tr>\n",
       "      <th>AB</th>\n",
       "      <td>96183.0</td>\n",
       "      <td>149.970327</td>\n",
       "      <td>186.557072</td>\n",
       "      <td>0.0</td>\n",
       "      <td>NaN</td>\n",
       "      <td>NaN</td>\n",
       "      <td>NaN</td>\n",
       "      <td>716.0</td>\n",
       "    </tr>\n",
       "    <tr>\n",
       "      <th>R</th>\n",
       "      <td>96183.0</td>\n",
       "      <td>19.887038</td>\n",
       "      <td>28.671365</td>\n",
       "      <td>0.0</td>\n",
       "      <td>NaN</td>\n",
       "      <td>NaN</td>\n",
       "      <td>NaN</td>\n",
       "      <td>192.0</td>\n",
       "    </tr>\n",
       "    <tr>\n",
       "      <th>H</th>\n",
       "      <td>96183.0</td>\n",
       "      <td>39.261647</td>\n",
       "      <td>53.310941</td>\n",
       "      <td>0.0</td>\n",
       "      <td>NaN</td>\n",
       "      <td>NaN</td>\n",
       "      <td>NaN</td>\n",
       "      <td>262.0</td>\n",
       "    </tr>\n",
       "    <tr>\n",
       "      <th>2B</th>\n",
       "      <td>96183.0</td>\n",
       "      <td>6.637067</td>\n",
       "      <td>9.801563</td>\n",
       "      <td>0.0</td>\n",
       "      <td>NaN</td>\n",
       "      <td>NaN</td>\n",
       "      <td>NaN</td>\n",
       "      <td>67.0</td>\n",
       "    </tr>\n",
       "    <tr>\n",
       "      <th>3B</th>\n",
       "      <td>96183.0</td>\n",
       "      <td>1.373361</td>\n",
       "      <td>2.710547</td>\n",
       "      <td>0.0</td>\n",
       "      <td>NaN</td>\n",
       "      <td>NaN</td>\n",
       "      <td>NaN</td>\n",
       "      <td>36.0</td>\n",
       "    </tr>\n",
       "    <tr>\n",
       "      <th>HR</th>\n",
       "      <td>96183.0</td>\n",
       "      <td>2.949305</td>\n",
       "      <td>6.409662</td>\n",
       "      <td>0.0</td>\n",
       "      <td>NaN</td>\n",
       "      <td>NaN</td>\n",
       "      <td>NaN</td>\n",
       "      <td>73.0</td>\n",
       "    </tr>\n",
       "    <tr>\n",
       "      <th>RBI</th>\n",
       "      <td>95759.0</td>\n",
       "      <td>17.965163</td>\n",
       "      <td>26.756514</td>\n",
       "      <td>0.0</td>\n",
       "      <td>NaN</td>\n",
       "      <td>NaN</td>\n",
       "      <td>NaN</td>\n",
       "      <td>191.0</td>\n",
       "    </tr>\n",
       "    <tr>\n",
       "      <th>SB</th>\n",
       "      <td>94883.0</td>\n",
       "      <td>3.158184</td>\n",
       "      <td>7.922994</td>\n",
       "      <td>0.0</td>\n",
       "      <td>NaN</td>\n",
       "      <td>NaN</td>\n",
       "      <td>NaN</td>\n",
       "      <td>138.0</td>\n",
       "    </tr>\n",
       "    <tr>\n",
       "      <th>CS</th>\n",
       "      <td>72729.0</td>\n",
       "      <td>1.324025</td>\n",
       "      <td>2.838196</td>\n",
       "      <td>0.0</td>\n",
       "      <td>NaN</td>\n",
       "      <td>NaN</td>\n",
       "      <td>NaN</td>\n",
       "      <td>42.0</td>\n",
       "    </tr>\n",
       "    <tr>\n",
       "      <th>BB</th>\n",
       "      <td>96183.0</td>\n",
       "      <td>13.811484</td>\n",
       "      <td>21.092775</td>\n",
       "      <td>0.0</td>\n",
       "      <td>NaN</td>\n",
       "      <td>NaN</td>\n",
       "      <td>NaN</td>\n",
       "      <td>232.0</td>\n",
       "    </tr>\n",
       "    <tr>\n",
       "      <th>SO</th>\n",
       "      <td>88345.0</td>\n",
       "      <td>21.629849</td>\n",
       "      <td>28.432978</td>\n",
       "      <td>0.0</td>\n",
       "      <td>NaN</td>\n",
       "      <td>NaN</td>\n",
       "      <td>NaN</td>\n",
       "      <td>223.0</td>\n",
       "    </tr>\n",
       "    <tr>\n",
       "      <th>IBB</th>\n",
       "      <td>59620.0</td>\n",
       "      <td>1.213234</td>\n",
       "      <td>2.894918</td>\n",
       "      <td>0.0</td>\n",
       "      <td>NaN</td>\n",
       "      <td>NaN</td>\n",
       "      <td>NaN</td>\n",
       "      <td>120.0</td>\n",
       "    </tr>\n",
       "    <tr>\n",
       "      <th>HBP</th>\n",
       "      <td>93373.0</td>\n",
       "      <td>1.113395</td>\n",
       "      <td>2.320660</td>\n",
       "      <td>0.0</td>\n",
       "      <td>NaN</td>\n",
       "      <td>NaN</td>\n",
       "      <td>NaN</td>\n",
       "      <td>51.0</td>\n",
       "    </tr>\n",
       "    <tr>\n",
       "      <th>SH</th>\n",
       "      <td>89845.0</td>\n",
       "      <td>2.457900</td>\n",
       "      <td>4.347818</td>\n",
       "      <td>0.0</td>\n",
       "      <td>NaN</td>\n",
       "      <td>NaN</td>\n",
       "      <td>NaN</td>\n",
       "      <td>67.0</td>\n",
       "    </tr>\n",
       "    <tr>\n",
       "      <th>SF</th>\n",
       "      <td>60151.0</td>\n",
       "      <td>1.150122</td>\n",
       "      <td>2.023981</td>\n",
       "      <td>0.0</td>\n",
       "      <td>NaN</td>\n",
       "      <td>NaN</td>\n",
       "      <td>NaN</td>\n",
       "      <td>19.0</td>\n",
       "    </tr>\n",
       "    <tr>\n",
       "      <th>GIDP</th>\n",
       "      <td>70075.0</td>\n",
       "      <td>3.210032</td>\n",
       "      <td>4.835881</td>\n",
       "      <td>0.0</td>\n",
       "      <td>NaN</td>\n",
       "      <td>NaN</td>\n",
       "      <td>NaN</td>\n",
       "      <td>36.0</td>\n",
       "    </tr>\n",
       "  </tbody>\n",
       "</table>\n",
       "</div>"
      ],
      "text/plain": [
       "           count         mean         std     min     25%     50%      75%  \\\n",
       "yearID  101332.0  1963.506533   38.628278  1871.0  1933.0  1972.0  1997.00   \n",
       "stint   101332.0     1.077567    0.283676     1.0     1.0     1.0     1.00   \n",
       "G       101332.0    51.400111   47.145273     0.0    13.0    34.0    80.25   \n",
       "AB       96183.0   149.970327  186.557072     0.0     NaN     NaN      NaN   \n",
       "R        96183.0    19.887038   28.671365     0.0     NaN     NaN      NaN   \n",
       "H        96183.0    39.261647   53.310941     0.0     NaN     NaN      NaN   \n",
       "2B       96183.0     6.637067    9.801563     0.0     NaN     NaN      NaN   \n",
       "3B       96183.0     1.373361    2.710547     0.0     NaN     NaN      NaN   \n",
       "HR       96183.0     2.949305    6.409662     0.0     NaN     NaN      NaN   \n",
       "RBI      95759.0    17.965163   26.756514     0.0     NaN     NaN      NaN   \n",
       "SB       94883.0     3.158184    7.922994     0.0     NaN     NaN      NaN   \n",
       "CS       72729.0     1.324025    2.838196     0.0     NaN     NaN      NaN   \n",
       "BB       96183.0    13.811484   21.092775     0.0     NaN     NaN      NaN   \n",
       "SO       88345.0    21.629849   28.432978     0.0     NaN     NaN      NaN   \n",
       "IBB      59620.0     1.213234    2.894918     0.0     NaN     NaN      NaN   \n",
       "HBP      93373.0     1.113395    2.320660     0.0     NaN     NaN      NaN   \n",
       "SH       89845.0     2.457900    4.347818     0.0     NaN     NaN      NaN   \n",
       "SF       60151.0     1.150122    2.023981     0.0     NaN     NaN      NaN   \n",
       "GIDP     70075.0     3.210032    4.835881     0.0     NaN     NaN      NaN   \n",
       "\n",
       "           max  \n",
       "yearID  2015.0  \n",
       "stint      5.0  \n",
       "G        165.0  \n",
       "AB       716.0  \n",
       "R        192.0  \n",
       "H        262.0  \n",
       "2B        67.0  \n",
       "3B        36.0  \n",
       "HR        73.0  \n",
       "RBI      191.0  \n",
       "SB       138.0  \n",
       "CS        42.0  \n",
       "BB       232.0  \n",
       "SO       223.0  \n",
       "IBB      120.0  \n",
       "HBP       51.0  \n",
       "SH        67.0  \n",
       "SF        19.0  \n",
       "GIDP      36.0  "
      ]
     },
     "execution_count": 561,
     "metadata": {},
     "output_type": "execute_result"
    }
   ],
   "source": [
    "#Various summary statistics\n",
    "batting_df.describe().transpose()\n",
    "#http://pandas.pydata.org/pandas-docs/stable/generated/pandas.DataFrame.describe.html"
   ]
  },
  {
   "cell_type": "markdown",
   "metadata": {},
   "source": [
    "### The minimum year is 1871, and the maximum year is 2015!  This means we have 144 years of baseball data.  We also see the maximum stint is 5 and maximum games played is 165.  That means no player has ever had more than 5 appearances on a team or played more than 165 games within a season.\n",
    "\n",
    "### Since there are null values in some data columns, the output from the describe functions are incomplete.  We can use fillna to replace the null values with 0. "
   ]
  },
  {
   "cell_type": "code",
   "execution_count": 562,
   "metadata": {
    "collapsed": false
   },
   "outputs": [
    {
     "data": {
      "text/html": [
       "<div>\n",
       "<table border=\"1\" class=\"dataframe\">\n",
       "  <thead>\n",
       "    <tr style=\"text-align: right;\">\n",
       "      <th></th>\n",
       "      <th>count</th>\n",
       "      <th>mean</th>\n",
       "      <th>std</th>\n",
       "      <th>min</th>\n",
       "      <th>25%</th>\n",
       "      <th>50%</th>\n",
       "      <th>75%</th>\n",
       "      <th>max</th>\n",
       "    </tr>\n",
       "  </thead>\n",
       "  <tbody>\n",
       "    <tr>\n",
       "      <th>yearID</th>\n",
       "      <td>101332.0</td>\n",
       "      <td>1963.506533</td>\n",
       "      <td>38.628278</td>\n",
       "      <td>1871.0</td>\n",
       "      <td>1933.0</td>\n",
       "      <td>1972.0</td>\n",
       "      <td>1997.00</td>\n",
       "      <td>2015.0</td>\n",
       "    </tr>\n",
       "    <tr>\n",
       "      <th>stint</th>\n",
       "      <td>101332.0</td>\n",
       "      <td>1.077567</td>\n",
       "      <td>0.283676</td>\n",
       "      <td>1.0</td>\n",
       "      <td>1.0</td>\n",
       "      <td>1.0</td>\n",
       "      <td>1.00</td>\n",
       "      <td>5.0</td>\n",
       "    </tr>\n",
       "    <tr>\n",
       "      <th>G</th>\n",
       "      <td>101332.0</td>\n",
       "      <td>51.400111</td>\n",
       "      <td>47.145273</td>\n",
       "      <td>0.0</td>\n",
       "      <td>13.0</td>\n",
       "      <td>34.0</td>\n",
       "      <td>80.25</td>\n",
       "      <td>165.0</td>\n",
       "    </tr>\n",
       "    <tr>\n",
       "      <th>AB</th>\n",
       "      <td>101332.0</td>\n",
       "      <td>142.349860</td>\n",
       "      <td>184.715535</td>\n",
       "      <td>0.0</td>\n",
       "      <td>4.0</td>\n",
       "      <td>49.0</td>\n",
       "      <td>233.00</td>\n",
       "      <td>716.0</td>\n",
       "    </tr>\n",
       "    <tr>\n",
       "      <th>R</th>\n",
       "      <td>101332.0</td>\n",
       "      <td>18.876515</td>\n",
       "      <td>28.272802</td>\n",
       "      <td>0.0</td>\n",
       "      <td>0.0</td>\n",
       "      <td>4.0</td>\n",
       "      <td>28.00</td>\n",
       "      <td>192.0</td>\n",
       "    </tr>\n",
       "    <tr>\n",
       "      <th>H</th>\n",
       "      <td>101332.0</td>\n",
       "      <td>37.266638</td>\n",
       "      <td>52.649683</td>\n",
       "      <td>0.0</td>\n",
       "      <td>0.0</td>\n",
       "      <td>9.0</td>\n",
       "      <td>58.00</td>\n",
       "      <td>262.0</td>\n",
       "    </tr>\n",
       "    <tr>\n",
       "      <th>2B</th>\n",
       "      <td>101332.0</td>\n",
       "      <td>6.299816</td>\n",
       "      <td>9.659895</td>\n",
       "      <td>0.0</td>\n",
       "      <td>0.0</td>\n",
       "      <td>1.0</td>\n",
       "      <td>9.00</td>\n",
       "      <td>67.0</td>\n",
       "    </tr>\n",
       "    <tr>\n",
       "      <th>3B</th>\n",
       "      <td>101332.0</td>\n",
       "      <td>1.303576</td>\n",
       "      <td>2.657951</td>\n",
       "      <td>0.0</td>\n",
       "      <td>0.0</td>\n",
       "      <td>0.0</td>\n",
       "      <td>1.00</td>\n",
       "      <td>36.0</td>\n",
       "    </tr>\n",
       "    <tr>\n",
       "      <th>HR</th>\n",
       "      <td>101332.0</td>\n",
       "      <td>2.799441</td>\n",
       "      <td>6.278191</td>\n",
       "      <td>0.0</td>\n",
       "      <td>0.0</td>\n",
       "      <td>0.0</td>\n",
       "      <td>2.00</td>\n",
       "      <td>73.0</td>\n",
       "    </tr>\n",
       "    <tr>\n",
       "      <th>RBI</th>\n",
       "      <td>101332.0</td>\n",
       "      <td>16.977125</td>\n",
       "      <td>26.330811</td>\n",
       "      <td>0.0</td>\n",
       "      <td>0.0</td>\n",
       "      <td>3.0</td>\n",
       "      <td>24.00</td>\n",
       "      <td>191.0</td>\n",
       "    </tr>\n",
       "    <tr>\n",
       "      <th>SB</th>\n",
       "      <td>101332.0</td>\n",
       "      <td>2.957190</td>\n",
       "      <td>7.705395</td>\n",
       "      <td>0.0</td>\n",
       "      <td>0.0</td>\n",
       "      <td>0.0</td>\n",
       "      <td>2.00</td>\n",
       "      <td>138.0</td>\n",
       "    </tr>\n",
       "    <tr>\n",
       "      <th>CS</th>\n",
       "      <td>101332.0</td>\n",
       "      <td>0.950292</td>\n",
       "      <td>2.477238</td>\n",
       "      <td>0.0</td>\n",
       "      <td>0.0</td>\n",
       "      <td>0.0</td>\n",
       "      <td>1.00</td>\n",
       "      <td>42.0</td>\n",
       "    </tr>\n",
       "    <tr>\n",
       "      <th>BB</th>\n",
       "      <td>101332.0</td>\n",
       "      <td>13.109679</td>\n",
       "      <td>20.772540</td>\n",
       "      <td>0.0</td>\n",
       "      <td>0.0</td>\n",
       "      <td>3.0</td>\n",
       "      <td>18.00</td>\n",
       "      <td>232.0</td>\n",
       "    </tr>\n",
       "    <tr>\n",
       "      <th>SO</th>\n",
       "      <td>101332.0</td>\n",
       "      <td>18.857705</td>\n",
       "      <td>27.515427</td>\n",
       "      <td>0.0</td>\n",
       "      <td>0.0</td>\n",
       "      <td>7.0</td>\n",
       "      <td>26.00</td>\n",
       "      <td>223.0</td>\n",
       "    </tr>\n",
       "    <tr>\n",
       "      <th>IBB</th>\n",
       "      <td>101332.0</td>\n",
       "      <td>0.713822</td>\n",
       "      <td>2.299406</td>\n",
       "      <td>0.0</td>\n",
       "      <td>0.0</td>\n",
       "      <td>0.0</td>\n",
       "      <td>0.00</td>\n",
       "      <td>120.0</td>\n",
       "    </tr>\n",
       "    <tr>\n",
       "      <th>HBP</th>\n",
       "      <td>101332.0</td>\n",
       "      <td>1.025944</td>\n",
       "      <td>2.247706</td>\n",
       "      <td>0.0</td>\n",
       "      <td>0.0</td>\n",
       "      <td>0.0</td>\n",
       "      <td>1.00</td>\n",
       "      <td>51.0</td>\n",
       "    </tr>\n",
       "    <tr>\n",
       "      <th>SH</th>\n",
       "      <td>101332.0</td>\n",
       "      <td>2.179272</td>\n",
       "      <td>4.167470</td>\n",
       "      <td>0.0</td>\n",
       "      <td>0.0</td>\n",
       "      <td>0.0</td>\n",
       "      <td>3.00</td>\n",
       "      <td>67.0</td>\n",
       "    </tr>\n",
       "    <tr>\n",
       "      <th>SF</th>\n",
       "      <td>101332.0</td>\n",
       "      <td>0.682716</td>\n",
       "      <td>1.658550</td>\n",
       "      <td>0.0</td>\n",
       "      <td>0.0</td>\n",
       "      <td>0.0</td>\n",
       "      <td>0.00</td>\n",
       "      <td>19.0</td>\n",
       "    </tr>\n",
       "    <tr>\n",
       "      <th>GIDP</th>\n",
       "      <td>101332.0</td>\n",
       "      <td>2.219861</td>\n",
       "      <td>4.286040</td>\n",
       "      <td>0.0</td>\n",
       "      <td>0.0</td>\n",
       "      <td>0.0</td>\n",
       "      <td>2.00</td>\n",
       "      <td>36.0</td>\n",
       "    </tr>\n",
       "  </tbody>\n",
       "</table>\n",
       "</div>"
      ],
      "text/plain": [
       "           count         mean         std     min     25%     50%      75%  \\\n",
       "yearID  101332.0  1963.506533   38.628278  1871.0  1933.0  1972.0  1997.00   \n",
       "stint   101332.0     1.077567    0.283676     1.0     1.0     1.0     1.00   \n",
       "G       101332.0    51.400111   47.145273     0.0    13.0    34.0    80.25   \n",
       "AB      101332.0   142.349860  184.715535     0.0     4.0    49.0   233.00   \n",
       "R       101332.0    18.876515   28.272802     0.0     0.0     4.0    28.00   \n",
       "H       101332.0    37.266638   52.649683     0.0     0.0     9.0    58.00   \n",
       "2B      101332.0     6.299816    9.659895     0.0     0.0     1.0     9.00   \n",
       "3B      101332.0     1.303576    2.657951     0.0     0.0     0.0     1.00   \n",
       "HR      101332.0     2.799441    6.278191     0.0     0.0     0.0     2.00   \n",
       "RBI     101332.0    16.977125   26.330811     0.0     0.0     3.0    24.00   \n",
       "SB      101332.0     2.957190    7.705395     0.0     0.0     0.0     2.00   \n",
       "CS      101332.0     0.950292    2.477238     0.0     0.0     0.0     1.00   \n",
       "BB      101332.0    13.109679   20.772540     0.0     0.0     3.0    18.00   \n",
       "SO      101332.0    18.857705   27.515427     0.0     0.0     7.0    26.00   \n",
       "IBB     101332.0     0.713822    2.299406     0.0     0.0     0.0     0.00   \n",
       "HBP     101332.0     1.025944    2.247706     0.0     0.0     0.0     1.00   \n",
       "SH      101332.0     2.179272    4.167470     0.0     0.0     0.0     3.00   \n",
       "SF      101332.0     0.682716    1.658550     0.0     0.0     0.0     0.00   \n",
       "GIDP    101332.0     2.219861    4.286040     0.0     0.0     0.0     2.00   \n",
       "\n",
       "           max  \n",
       "yearID  2015.0  \n",
       "stint      5.0  \n",
       "G        165.0  \n",
       "AB       716.0  \n",
       "R        192.0  \n",
       "H        262.0  \n",
       "2B        67.0  \n",
       "3B        36.0  \n",
       "HR        73.0  \n",
       "RBI      191.0  \n",
       "SB       138.0  \n",
       "CS        42.0  \n",
       "BB       232.0  \n",
       "SO       223.0  \n",
       "IBB      120.0  \n",
       "HBP       51.0  \n",
       "SH        67.0  \n",
       "SF        19.0  \n",
       "GIDP      36.0  "
      ]
     },
     "execution_count": 562,
     "metadata": {},
     "output_type": "execute_result"
    }
   ],
   "source": [
    "# Use fillna to remove NaN from describe output\n",
    "clean_batting_df = batting_df.fillna(0)\n",
    "clean_batting_df.describe().transpose()"
   ]
  },
  {
   "cell_type": "markdown",
   "metadata": {},
   "source": [
    "### Note, the NaN values have been replaced by zeros in clean_batting_df.   It would be wise to exclude the zeros when looking at the IQR.  With data aquistion and cleansing complete for now, let's ask a few questions.  "
   ]
  },
  {
   "cell_type": "markdown",
   "metadata": {},
   "source": [
    "### Question 1: Which playerID has the maximum games played in a year for a team?"
   ]
  },
  {
   "cell_type": "code",
   "execution_count": 563,
   "metadata": {
    "collapsed": false
   },
   "outputs": [
    {
     "data": {
      "text/plain": [
       "yearID  lgID  teamID  playerID \n",
       "1962    NL    LAN     willsma01    165\n",
       "1967    AL    MIN     tovarce01    164\n",
       "1965    NL    CHN     santoro01    164\n",
       "1962    NL    SFN     paganjo01    164\n",
       "1965    NL    CHN     willibi01    164\n",
       "1967    NL    PIT     mazerbi01    163\n",
       "1968    NL    CHN     willibi01    163\n",
       "1969    NL    CHN     willibi01    163\n",
       "1989    NL    SLN     oquenjo01    163\n",
       "1965    NL    CHN     bankser01    163\n",
       "Name: G, dtype: int64"
      ]
     },
     "execution_count": 563,
     "metadata": {},
     "output_type": "execute_result"
    }
   ],
   "source": [
    "# sum Games by year, league, team and player\n",
    "sumGames_byYearbyLeaguebyTeambyPlayer = batting_df.groupby(['yearID','lgID','teamID','playerID']).sum()['G']\n",
    "sumGames_byYearbyLeaguebyTeambyPlayer.sort_values(ascending=False).head(10)"
   ]
  },
  {
   "cell_type": "markdown",
   "metadata": {},
   "source": [
    "> <font color='red'> Answer 1: PlayerID willsma01 played 165 games in 1962 for teamID LAN in lgID NL.  </font>\n",
    "\n",
    "### Question 2: Can we locate information about playerID willsma01 in the master.csv file?"
   ]
  },
  {
   "cell_type": "code",
   "execution_count": 564,
   "metadata": {
    "collapsed": false
   },
   "outputs": [
    {
     "data": {
      "text/html": [
       "<div>\n",
       "<table border=\"1\" class=\"dataframe\">\n",
       "  <thead>\n",
       "    <tr style=\"text-align: right;\">\n",
       "      <th></th>\n",
       "      <th>18320</th>\n",
       "    </tr>\n",
       "  </thead>\n",
       "  <tbody>\n",
       "    <tr>\n",
       "      <th>playerID</th>\n",
       "      <td>willsma01</td>\n",
       "    </tr>\n",
       "    <tr>\n",
       "      <th>birthYear</th>\n",
       "      <td>1932</td>\n",
       "    </tr>\n",
       "    <tr>\n",
       "      <th>birthMonth</th>\n",
       "      <td>10</td>\n",
       "    </tr>\n",
       "    <tr>\n",
       "      <th>birthDay</th>\n",
       "      <td>2</td>\n",
       "    </tr>\n",
       "    <tr>\n",
       "      <th>birthCountry</th>\n",
       "      <td>USA</td>\n",
       "    </tr>\n",
       "    <tr>\n",
       "      <th>birthState</th>\n",
       "      <td>DC</td>\n",
       "    </tr>\n",
       "    <tr>\n",
       "      <th>birthCity</th>\n",
       "      <td>Washington</td>\n",
       "    </tr>\n",
       "    <tr>\n",
       "      <th>deathYear</th>\n",
       "      <td>NaN</td>\n",
       "    </tr>\n",
       "    <tr>\n",
       "      <th>deathMonth</th>\n",
       "      <td>NaN</td>\n",
       "    </tr>\n",
       "    <tr>\n",
       "      <th>deathDay</th>\n",
       "      <td>NaN</td>\n",
       "    </tr>\n",
       "    <tr>\n",
       "      <th>deathCountry</th>\n",
       "      <td>NaN</td>\n",
       "    </tr>\n",
       "    <tr>\n",
       "      <th>deathState</th>\n",
       "      <td>NaN</td>\n",
       "    </tr>\n",
       "    <tr>\n",
       "      <th>deathCity</th>\n",
       "      <td>NaN</td>\n",
       "    </tr>\n",
       "    <tr>\n",
       "      <th>nameFirst</th>\n",
       "      <td>Maury</td>\n",
       "    </tr>\n",
       "    <tr>\n",
       "      <th>nameLast</th>\n",
       "      <td>Wills</td>\n",
       "    </tr>\n",
       "    <tr>\n",
       "      <th>nameGiven</th>\n",
       "      <td>Maurice Morning</td>\n",
       "    </tr>\n",
       "    <tr>\n",
       "      <th>weight</th>\n",
       "      <td>170</td>\n",
       "    </tr>\n",
       "    <tr>\n",
       "      <th>height</th>\n",
       "      <td>71</td>\n",
       "    </tr>\n",
       "    <tr>\n",
       "      <th>bats</th>\n",
       "      <td>B</td>\n",
       "    </tr>\n",
       "    <tr>\n",
       "      <th>throws</th>\n",
       "      <td>R</td>\n",
       "    </tr>\n",
       "    <tr>\n",
       "      <th>debut</th>\n",
       "      <td>1959-06-06</td>\n",
       "    </tr>\n",
       "    <tr>\n",
       "      <th>finalGame</th>\n",
       "      <td>1972-10-04</td>\n",
       "    </tr>\n",
       "    <tr>\n",
       "      <th>retroID</th>\n",
       "      <td>willm102</td>\n",
       "    </tr>\n",
       "    <tr>\n",
       "      <th>bbrefID</th>\n",
       "      <td>willsma01</td>\n",
       "    </tr>\n",
       "  </tbody>\n",
       "</table>\n",
       "</div>"
      ],
      "text/plain": [
       "                        18320\n",
       "playerID            willsma01\n",
       "birthYear                1932\n",
       "birthMonth                 10\n",
       "birthDay                    2\n",
       "birthCountry              USA\n",
       "birthState                 DC\n",
       "birthCity          Washington\n",
       "deathYear                 NaN\n",
       "deathMonth                NaN\n",
       "deathDay                  NaN\n",
       "deathCountry              NaN\n",
       "deathState                NaN\n",
       "deathCity                 NaN\n",
       "nameFirst               Maury\n",
       "nameLast                Wills\n",
       "nameGiven     Maurice Morning\n",
       "weight                    170\n",
       "height                     71\n",
       "bats                        B\n",
       "throws                      R\n",
       "debut              1959-06-06\n",
       "finalGame          1972-10-04\n",
       "retroID              willm102\n",
       "bbrefID             willsma01"
      ]
     },
     "execution_count": 564,
     "metadata": {},
     "output_type": "execute_result"
    }
   ],
   "source": [
    "# Locate player ID willsma01 in masters file\n",
    "\n",
    "filename_master = '/udacity/p2/Master.csv'\n",
    "master_df = pd.read_csv(filename_master)\n",
    "\n",
    "master_df.loc[master_df['playerID'] == 'willsma01'].transpose()\n"
   ]
  },
  {
   "cell_type": "markdown",
   "metadata": {},
   "source": [
    "> <font color='red'> Answer 2: Maury Wills is the player who played 165 games in 1962. </font>\n",
    "\n",
    "\n",
    "### Question 3: Is the maximum games played by year linear or steady?"
   ]
  },
  {
   "cell_type": "code",
   "execution_count": 565,
   "metadata": {
    "collapsed": false
   },
   "outputs": [
    {
     "data": {
      "text/plain": [
       "<matplotlib.text.Text at 0x2516a940>"
      ]
     },
     "execution_count": 565,
     "metadata": {},
     "output_type": "execute_result"
    },
    {
     "data": {
      "image/png": "[encoded data removed]",
      "text/plain": [
       "<matplotlib.figure.Figure at 0x306a61d0>"
      ]
     },
     "metadata": {},
     "output_type": "display_data"
    }
   ],
   "source": [
    "# Plot maximum games played by year\n",
    "maxGames_byYear = batting_df.groupby(['yearID']).max()['G']\n",
    "maxGames_byYear.plot(grid=True)\n",
    "\n",
    "# Label Y axis\n",
    "ylabel('Maximum games played')\n",
    "\n",
    "# Add Title\n",
    "title('Maximum games played with respect to playerID by year')"
   ]
  },
  {
   "cell_type": "markdown",
   "metadata": {},
   "source": [
    "### The maximum games played in any season for a player increased from 1880 to 1900.  There was a fluxuation from 1900 to 1920 then a consistent trend.  Let's look at a histogram of the last 50 years."
   ]
  },
  {
   "cell_type": "code",
   "execution_count": 566,
   "metadata": {
    "collapsed": false
   },
   "outputs": [
    {
     "data": {
      "text/plain": [
       "<matplotlib.text.Text at 0x303278d0>"
      ]
     },
     "execution_count": 566,
     "metadata": {},
     "output_type": "execute_result"
    },
    {
     "data": {
      "image/png": "[encoded data removed]",
      "text/plain": [
       "<matplotlib.figure.Figure at 0x2ff67550>"
      ]
     },
     "metadata": {},
     "output_type": "display_data"
    }
   ],
   "source": [
    "# Print maximum games played for last 50 years\n",
    "maxGames_byYear.tail(50).hist()\n",
    "ylabel('Maximum games played')\n",
    "title('Maximum games with respect to playerID for last 50 years')"
   ]
  },
  {
   "cell_type": "markdown",
   "metadata": {},
   "source": [
    "### In the last 50 years, there are three years where no player has played more than 150 games per season. "
   ]
  },
  {
   "cell_type": "code",
   "execution_count": 567,
   "metadata": {
    "collapsed": false
   },
   "outputs": [
    {
     "data": {
      "image/png": "[encoded data removed]",
      "text/plain": [
       "<matplotlib.figure.Figure at 0x29c23eb8>"
      ]
     },
     "metadata": {},
     "output_type": "display_data"
    }
   ],
   "source": [
    "# Sort values to find identify years where no player played more than 150 games \n",
    "tailMaxGames_byYear = maxGames_byYear.tail(50)\n",
    "tailMaxGames_byYear = tailMaxGames_byYear.sort_values(ascending=True)\n",
    "y_val = tailMaxGames_byYear.head().sort_values(ascending=False)\n",
    "\n",
    "fig = y_val.plot(kind='barh',grid=True)"
   ]
  },
  {
   "cell_type": "markdown",
   "metadata": {},
   "source": [
    "> <font color='red'> Answer 3: Yes,the maximum games played is stable with values near 160 games subsquent 1920.  There are two noticeable dips where the maximum games played dropped.  Both 1981 and 1994 were shortened seasons due to player strikes.  The 1994 strike impacted the start of the 1995 season. </font>"
   ]
  },
  {
   "cell_type": "markdown",
   "metadata": {},
   "source": [
    "### Question 4: Which player holds the record for the most runs scored in any year on a team?  \n"
   ]
  },
  {
   "cell_type": "code",
   "execution_count": 568,
   "metadata": {
    "collapsed": false
   },
   "outputs": [
    {
     "data": {
      "text/html": [
       "<div>\n",
       "<table border=\"1\" class=\"dataframe\">\n",
       "  <thead>\n",
       "    <tr style=\"text-align: right;\">\n",
       "      <th></th>\n",
       "      <th>yearID</th>\n",
       "      <th>lgID</th>\n",
       "      <th>teamID</th>\n",
       "      <th>playerID</th>\n",
       "      <th>R</th>\n",
       "    </tr>\n",
       "  </thead>\n",
       "  <tbody>\n",
       "    <tr>\n",
       "      <th>0</th>\n",
       "      <td>1894</td>\n",
       "      <td>NL</td>\n",
       "      <td>PHI</td>\n",
       "      <td>hamilbi01</td>\n",
       "      <td>192.0</td>\n",
       "    </tr>\n",
       "    <tr>\n",
       "      <th>1</th>\n",
       "      <td>1921</td>\n",
       "      <td>AL</td>\n",
       "      <td>NYA</td>\n",
       "      <td>ruthba01</td>\n",
       "      <td>177.0</td>\n",
       "    </tr>\n",
       "    <tr>\n",
       "      <th>2</th>\n",
       "      <td>1891</td>\n",
       "      <td>AA</td>\n",
       "      <td>BS2</td>\n",
       "      <td>brownto01</td>\n",
       "      <td>177.0</td>\n",
       "    </tr>\n",
       "    <tr>\n",
       "      <th>3</th>\n",
       "      <td>1936</td>\n",
       "      <td>AL</td>\n",
       "      <td>NYA</td>\n",
       "      <td>gehrilo01</td>\n",
       "      <td>167.0</td>\n",
       "    </tr>\n",
       "    <tr>\n",
       "      <th>4</th>\n",
       "      <td>1887</td>\n",
       "      <td>AA</td>\n",
       "      <td>SL4</td>\n",
       "      <td>oneilti01</td>\n",
       "      <td>167.0</td>\n",
       "    </tr>\n",
       "    <tr>\n",
       "      <th>5</th>\n",
       "      <td>1895</td>\n",
       "      <td>NL</td>\n",
       "      <td>PHI</td>\n",
       "      <td>hamilbi01</td>\n",
       "      <td>166.0</td>\n",
       "    </tr>\n",
       "    <tr>\n",
       "      <th>6</th>\n",
       "      <td>1894</td>\n",
       "      <td>NL</td>\n",
       "      <td>BLN</td>\n",
       "      <td>kellejo01</td>\n",
       "      <td>165.0</td>\n",
       "    </tr>\n",
       "    <tr>\n",
       "      <th>7</th>\n",
       "      <td>1894</td>\n",
       "      <td>NL</td>\n",
       "      <td>BLN</td>\n",
       "      <td>keelewi01</td>\n",
       "      <td>165.0</td>\n",
       "    </tr>\n",
       "    <tr>\n",
       "      <th>8</th>\n",
       "      <td>1931</td>\n",
       "      <td>AL</td>\n",
       "      <td>NYA</td>\n",
       "      <td>gehrilo01</td>\n",
       "      <td>163.0</td>\n",
       "    </tr>\n",
       "    <tr>\n",
       "      <th>9</th>\n",
       "      <td>1928</td>\n",
       "      <td>AL</td>\n",
       "      <td>NYA</td>\n",
       "      <td>ruthba01</td>\n",
       "      <td>163.0</td>\n",
       "    </tr>\n",
       "  </tbody>\n",
       "</table>\n",
       "</div>"
      ],
      "text/plain": [
       "   yearID lgID teamID   playerID      R\n",
       "0    1894   NL    PHI  hamilbi01  192.0\n",
       "1    1921   AL    NYA   ruthba01  177.0\n",
       "2    1891   AA    BS2  brownto01  177.0\n",
       "3    1936   AL    NYA  gehrilo01  167.0\n",
       "4    1887   AA    SL4  oneilti01  167.0\n",
       "5    1895   NL    PHI  hamilbi01  166.0\n",
       "6    1894   NL    BLN  kellejo01  165.0\n",
       "7    1894   NL    BLN  keelewi01  165.0\n",
       "8    1931   AL    NYA  gehrilo01  163.0\n",
       "9    1928   AL    NYA   ruthba01  163.0"
      ]
     },
     "execution_count": 568,
     "metadata": {},
     "output_type": "execute_result"
    }
   ],
   "source": [
    "# sum Games by year, league, team and player\n",
    "sumRun_byYearbyLeaguebyTeambyPlayer = batting_df.groupby(['yearID','lgID','teamID','playerID']).sum()['R']\n",
    "sumRun_byYearbyLeaguebyTeambyPlayer.sort_values(ascending=False).head(10).reset_index()"
   ]
  },
  {
   "cell_type": "markdown",
   "metadata": {},
   "source": [
    "> <font color='red'> Answer 4: PlayerID hamilbi01 scored 192 runs in 1894 with team PHI in league NL.  Let's look at the runs (R) data column the same way we looked at games (G). </font>\n",
    "\n",
    "### Question 5: Is the maximum runs for the past 50 years scored by year linear or steady?"
   ]
  },
  {
   "cell_type": "code",
   "execution_count": 569,
   "metadata": {
    "collapsed": false
   },
   "outputs": [
    {
     "name": "stdout",
     "output_type": "stream",
     "text": [
      "Axes(0.125,0.125;0.775x0.775)\n"
     ]
    },
    {
     "data": {
      "text/plain": [
       "<matplotlib.text.Text at 0x2e8104a8>"
      ]
     },
     "execution_count": 569,
     "metadata": {},
     "output_type": "execute_result"
    },
    {
     "data": {
      "image/png": "[encoded data removed]",
      "text/plain": [
       "<matplotlib.figure.Figure at 0x2f403940>"
      ]
     },
     "metadata": {},
     "output_type": "display_data"
    }
   ],
   "source": [
    "# Plot maximum games played by year\n",
    "maxRuns_byYear = batting_df.groupby(['yearID']).max()['R']\n",
    "print maxRuns_byYear.tail(50).plot(grid=True)\n",
    "ylabel('Maximum Runs')\n",
    "title('Maximum runs with respect to playerID by year')"
   ]
  },
  {
   "cell_type": "markdown",
   "metadata": {},
   "source": [
    "> <font color='red'> Answer 5: The maximum runs scored per season by any player ranges from 90 to 150 over the past 50 years.  The number is not steady, and has trended down over ethe last five years. </font>\n",
    "\n",
    "### Question 6: How have runs scored by year changed over the years?"
   ]
  },
  {
   "cell_type": "code",
   "execution_count": 570,
   "metadata": {
    "collapsed": false
   },
   "outputs": [
    {
     "name": "stdout",
     "output_type": "stream",
     "text": [
      "Axes(0.125,0.125;0.775x0.775)\n"
     ]
    },
    {
     "data": {
      "text/plain": [
       "<matplotlib.text.Annotation at 0x30330ba8>"
      ]
     },
     "execution_count": 570,
     "metadata": {},
     "output_type": "execute_result"
    },
    {
     "data": {
      "image/png": "[encoded data removed]",
      "text/plain": [
       "<matplotlib.figure.Figure at 0x2f81f358>"
      ]
     },
     "metadata": {},
     "output_type": "display_data"
    }
   ],
   "source": [
    "sumRuns_byYear = batting_df.groupby('yearID').sum()['R']\n",
    "print sumRuns_byYear.plot(grid=True)\n",
    "ylabel('Runs')\n",
    "title('Runs recorded by year')\n",
    "plt.annotate('local max', xy=(2000, 24971), xytext=(2000, 24971.0),\n",
    "            arrowprops=dict(),\n",
    "            )"
   ]
  },
  {
   "cell_type": "code",
   "execution_count": 571,
   "metadata": {
    "collapsed": false
   },
   "outputs": [
    {
     "name": "stdout",
     "output_type": "stream",
     "text": [
      "Axes(0.125,0.125;0.775x0.775)\n",
      "yearID\n",
      "1991    18127.0\n",
      "1992    17341.0\n",
      "1993    20864.0\n",
      "1994    15752.0\n",
      "1995    19554.0\n",
      "1996    22831.0\n",
      "1997    21604.0\n",
      "1998    23297.0\n",
      "1999    24691.0\n",
      "2000    24971.0\n",
      "2001    23199.0\n",
      "2002    22408.0\n",
      "2003    22978.0\n",
      "2004    23376.0\n",
      "2005    22325.0\n",
      "2006    23599.0\n",
      "2007    23322.0\n",
      "2008    22585.0\n",
      "2009    22419.0\n",
      "2010    21308.0\n",
      "2011    20808.0\n",
      "2012    21017.0\n",
      "2013    20255.0\n",
      "2014    19761.0\n",
      "2015    20647.0\n",
      "Name: R, dtype: float64\n"
     ]
    },
    {
     "data": {
      "image/png": "[encoded data removed]",
      "text/plain": [
       "<matplotlib.figure.Figure at 0x2eb134e0>"
      ]
     },
     "metadata": {},
     "output_type": "display_data"
    }
   ],
   "source": [
    "print sumRuns_byYear.tail(25).plot(grid=True)\n",
    "ylabel('Runs')\n",
    "title('Total Runs for last 25 years')\n",
    "print sumRuns_byYear.tail(25)"
   ]
  },
  {
   "cell_type": "markdown",
   "metadata": {},
   "source": [
    "> <font color = 'red'> Answer6: The total runs scored are trending down since 2005. The total runs scored are back to 1995 levels, and 1995 was a strike shortened season.  Fewer runs may result in less excitement or entertainment for some fans of baseball. </font>"
   ]
  },
  {
   "cell_type": "markdown",
   "metadata": {},
   "source": [
    "\n",
    "### Question 7: Is the decline in runs due to fewer players in the dataset?"
   ]
  },
  {
   "cell_type": "code",
   "execution_count": 572,
   "metadata": {
    "collapsed": false
   },
   "outputs": [
    {
     "data": {
      "text/plain": [
       "<matplotlib.text.Text at 0x343e8048>"
      ]
     },
     "execution_count": 572,
     "metadata": {},
     "output_type": "execute_result"
    },
    {
     "data": {
      "image/png": "[encoded data removed]",
      "text/plain": [
       "<matplotlib.figure.Figure at 0x3021d438>"
      ]
     },
     "metadata": {},
     "output_type": "display_data"
    }
   ],
   "source": [
    "# Get unique count of players per year, is the decline in runs due to fewer players\n",
    "numPlayers_byYear = batting_df.groupby(['yearID']).playerID.nunique()\n",
    "numPlayers_byYear.plot(grid=True)\n",
    "ylabel('Count unique players')\n",
    "title('Count of distinct playerIDs by year')"
   ]
  },
  {
   "cell_type": "markdown",
   "metadata": {},
   "source": [
    "> <font color='red'>Answer 7: No, the number of distinct players is increasing.  The average number of runs scored per player by year must be trending down since the count of distinct players is increasing.</font>"
   ]
  },
  {
   "cell_type": "markdown",
   "metadata": {},
   "source": [
    "### Question 8: For all players, even the ones with limited games (G) played or at-bats (AB),  how is the average runs scored per player trending over the last 25 years."
   ]
  },
  {
   "cell_type": "code",
   "execution_count": 573,
   "metadata": {
    "collapsed": false
   },
   "outputs": [
    {
     "data": {
      "text/plain": [
       "<matplotlib.text.Text at 0x2ac82e10>"
      ]
     },
     "execution_count": 573,
     "metadata": {},
     "output_type": "execute_result"
    },
    {
     "data": {
      "image/png": "[encoded data removed]",
      "text/plain": [
       "<matplotlib.figure.Figure at 0x2a963dd8>"
      ]
     },
     "metadata": {},
     "output_type": "display_data"
    }
   ],
   "source": [
    "# Get the number of runs per year per player\n",
    "avgRuns_byYear_perPlayer = sumRuns_byYear / numPlayers_byYear\n",
    "\n",
    "avgRuns_byYear_perPlayer.tail(25).plot(grid=True)\n",
    "ylabel('Avg runs')\n",
    "title('Average runs for distinct playerID by year')"
   ]
  },
  {
   "cell_type": "markdown",
   "metadata": {},
   "source": [
    "> <font color='red'>Answer 8: The average number of runs scored per distinct players is decreasing as expected.  It's looking more and more like the runs scored are decreasing.  </font>"
   ]
  },
  {
   "cell_type": "markdown",
   "metadata": {},
   "source": [
    "### Question 9: What is the correlation like between runs (R) and other data columns?"
   ]
  },
  {
   "cell_type": "code",
   "execution_count": 574,
   "metadata": {
    "collapsed": false
   },
   "outputs": [
    {
     "name": "stdout",
     "output_type": "stream",
     "text": [
      "(0.90824992256478876, 5.7076199148221909e-56)\n",
      "(0.89393966466030983, 1.0719464405259148e-51)\n",
      "(0.95227629829030314, 1.4048631835047909e-75)\n",
      "(0.96524224287435623, 3.184984717550824e-85)\n"
     ]
    }
   ],
   "source": [
    "sumSOs_byYear = clean_batting_df.groupby('yearID').sum()['SO']\n",
    "sumHRs_byYear = batting_df.groupby('yearID').sum()['HR']\n",
    "sumBBs_byYear = clean_batting_df.groupby('yearID').sum()['BB']\n",
    "sumRBIs_byYear = clean_batting_df.groupby('yearID').sum()['RBI']\n",
    "sumABs_byYear = clean_batting_df.groupby('yearID').sum()['AB']\n",
    "\n",
    "print pearsonr(sumRuns_byYear,sumHRs_byYear)\n",
    "print pearsonr(sumRuns_byYear,sumSOs_byYear)\n",
    "print pearsonr(sumRuns_byYear,sumBBs_byYear)\n",
    "print pearsonr(sumSOs_byYear,sumHRs_byYear)"
   ]
  },
  {
   "cell_type": "markdown",
   "metadata": {},
   "source": [
    "> <font color='red'> Answer 9: There are strong correlations between HR and SO, and Runs and Walks.  The p-values are also below 0.05 so the resuls are significant."
   ]
  },
  {
   "cell_type": "markdown",
   "metadata": {},
   "source": [
    "### Question 10: How do these correlations change when we group the data by team and year?"
   ]
  },
  {
   "cell_type": "code",
   "execution_count": 575,
   "metadata": {
    "collapsed": false
   },
   "outputs": [
    {
     "name": "stdout",
     "output_type": "stream",
     "text": [
      "(0.2668135747820406, 6.3059282412679292e-47)\n"
     ]
    },
    {
     "data": {
      "text/plain": [
       "(0.50052718789641415, 8.878599214023007e-178)"
      ]
     },
     "execution_count": 575,
     "metadata": {},
     "output_type": "execute_result"
    }
   ],
   "source": [
    "sumSOs_byYear_byTeam = clean_batting_df.groupby(['yearID','teamID']).sum()['SO']\n",
    "sumRs_byYear_byTeam = clean_batting_df.groupby(['yearID','teamID']).sum()['R']\n",
    "sumHRs_byYear_byTeam = clean_batting_df.groupby(['yearID','teamID']).sum()['HR']\n",
    "sumBBs_byYear_byTeam = clean_batting_df.groupby(['yearID','teamID']).sum()['BB']\n",
    "\n",
    "\n",
    "SOs_per_R_byYear_byTeam = sumSOs_byYear_byTeam / sumRs_byYear_byTeam\n",
    "SOs_per_R_byYear_byTeam.sort_values(ascending=False)\n",
    "print pearsonr(sumSOs_byYear_byTeam,sumRs_byYear_byTeam)\n",
    "pearsonr(sumHRs_byYear_byTeam,sumRs_byYear_byTeam)"
   ]
  },
  {
   "cell_type": "code",
   "execution_count": 576,
   "metadata": {
    "collapsed": false
   },
   "outputs": [
    {
     "name": "stdout",
     "output_type": "stream",
     "text": [
      "0.500527187896\n",
      "0.647020885617\n",
      "0.266813574782\n",
      "0.818377242427\n",
      "0.556885076235\n",
      "0.600899538737\n"
     ]
    }
   ],
   "source": [
    "def correlation(x, y):\n",
    "    '''\n",
    "    Fill in this function to compute the correlation between the two\n",
    "    input variables. Each input is either a NumPy array or a Pandas\n",
    "    Series.\n",
    "    \n",
    "    correlation = average of (x in standard units) times (y in standard units)\n",
    "    \n",
    "    Remember to pass the argument \"ddof=0\" to the Pandas std() function!\n",
    "    '''\n",
    "    std_x = (x - x.mean()) / x.std(ddof=0)\n",
    "    std_y = (y - y.mean()) / y.std(ddof=0)\n",
    "    \n",
    "    return (std_x * std_y).mean()\n",
    "\n",
    "runs = sumRs_byYear_byTeam\n",
    "HR = sumHRs_byYear_byTeam\n",
    "BB = sumBBs_byYear_byTeam\n",
    "SO = sumSOs_byYear_byTeam\n",
    "\n",
    "\n",
    "print correlation(runs, HR)\n",
    "print correlation(runs, BB)\n",
    "print correlation(runs, SO)\n",
    "print correlation(HR, SO)\n",
    "print correlation(BB, SO)\n",
    "print correlation(HR, BB)"
   ]
  },
  {
   "cell_type": "markdown",
   "metadata": {},
   "source": [
    "> <font color='red'> Answer 10: The strongest correlation is between HR and SO.  SO and R also have a moderately weak correlation at 0.2668.  This implies teams with higher HR have more SO. On the other hand, while the correlation is not as strong teams with higher SO have lower R.  The strong positive correlation between HR and SO imply teams with more HR have more SO. </font>  "
   ]
  },
  {
   "cell_type": "markdown",
   "metadata": {},
   "source": [
    "### <font color='blue'> Conclusion: This analysis shows that runs are trending down over the past 20 years, which could be a problem for some baseball fans. </font>\n",
    "\n",
    "### <font color='blue'> The investigation started by looking at the sum of games played per year.  There we saw the maximum games played per year is 165; the actual games played are closer to 162 in more recent years.  This means players are playing nearly the same number of games.  Then we saw how runs (R) and base-on-balls (BB) are trending down over time while Strike outs (SO) are increasing and home runs (HR) are flat. When looking at correlations grouped by team and year, there is a strong positive correlation between HR and SO and the correlation between HR and R is less than the correlation between BB and R. This implies a team should look for players with high BB totals.  </font>\n",
    "\n",
    "### <font color='blue'> Additional followup questions could include analyzing the between HR, SO, BB and R.  How should a team value a player with high BB, low HR and low SO?  Would that player contribute more runs than a player with low BB, high HR and high SO?  From a macro level, what is the relationship between runs scored and the win-loss records over time?  How do runs scored impact a team win-loss record?    </font> "
   ]
  },
  {
   "cell_type": "code",
   "execution_count": 577,
   "metadata": {
    "collapsed": false
   },
   "outputs": [
    {
     "data": {
      "text/plain": [
       "<matplotlib.axes._subplots.AxesSubplot at 0x2abd40f0>"
      ]
     },
     "execution_count": 577,
     "metadata": {},
     "output_type": "execute_result"
    },
    {
     "data": {
      "image/png": "[encoded data removed]",
      "text/plain": [
       "<matplotlib.figure.Figure at 0x2f8cce10>"
      ]
     },
     "metadata": {},
     "output_type": "display_data"
    }
   ],
   "source": [
    "sumRuns_byYear.tail(25).plot(legend=True,grid=True,title = 'Baseball Dataset - Batting.csv key data columns')\n",
    "sumSOs_byYear.tail(25).plot(legend=True,grid=True,title = 'Baseball Dataset - Batting.csv key data columns')\n",
    "sumHRs_byYear.tail(25).plot(legend=True,grid=True,title = 'Baseball Dataset - Batting.csv key data columns')\n",
    "sumBBs_byYear.tail(25).plot(legend=True,grid=True,title = 'Baseball Dataset - Batting.csv key data columns')"
   ]
  }
 ],
 "metadata": {
  "anaconda-cloud": {},
  "kernelspec": {
   "display_name": "Python [Root]",
   "language": "python",
   "name": "Python [Root]"
  },
  "language_info": {
   "codemirror_mode": {
    "name": "ipython",
    "version": 2
   },
   "file_extension": ".py",
   "mimetype": "text/x-python",
   "name": "python",
   "nbconvert_exporter": "python",
   "pygments_lexer": "ipython2",
   "version": "2.7.12"
  }
 },
 "nbformat": 4,
 "nbformat_minor": 0
}
